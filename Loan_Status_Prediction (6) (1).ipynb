{
  "nbformat": 4,
  "nbformat_minor": 0,
  "metadata": {
    "colab": {
      "name": "Loan Status Prediction.ipynb",
      "provenance": [],
      "collapsed_sections": []
    },
    "kernelspec": {
      "name": "python3",
      "display_name": "Python 3"
    }
  },
  "cells": [
    {
      "cell_type": "code",
      "metadata": {
        "id": "ONPl1VldnEMF"
      },
      "source": [
        " # Pandas and numpy for data manipulation\r\n",
        "import pandas as pd\r\n",
        "import numpy as np\r\n",
        "import matplotlib.pyplot as plt\r\n",
        "%matplotlib inline\r\n",
        "from IPython.core.pylabtools import figsize\r\n",
        "# Seaborn for visualization\r\n",
        "import seaborn as sns\r\n",
        "sns.set(font_scale = 2)\r\n",
        "\r\n",
        "# Splitting data into training and testing\r\n",
        "from sklearn.model_selection import train_test_split"
      ],
      "execution_count": 1,
      "outputs": []
    },
    {
      "cell_type": "code",
      "metadata": {
        "colab": {
          "base_uri": "https://localhost:8080/"
        },
        "id": "HxY1PvKunSDa",
        "outputId": "e65ccbd9-4508-45be-8dbb-954c2bb4e79e"
      },
      "source": [
        "from google.colab import drive\r\n",
        "drive.mount('/content/drive')"
      ],
      "execution_count": 2,
      "outputs": [
        {
          "output_type": "stream",
          "text": [
            "Mounted at /content/drive\n"
          ],
          "name": "stdout"
        }
      ]
    },
    {
      "cell_type": "code",
      "metadata": {
        "id": "JfFmwbQpncfE"
      },
      "source": [
        "df=pd.read_csv('/content/drive/My Drive/Loan Status Prediction/Loan Data.csv')"
      ],
      "execution_count": 3,
      "outputs": []
    },
    {
      "cell_type": "code",
      "metadata": {
        "colab": {
          "base_uri": "https://localhost:8080/",
          "height": 517
        },
        "id": "FWhs_lN3nwRf",
        "outputId": "315188fd-44cb-49ba-980c-7aaf9737f7f1"
      },
      "source": [
        "df.head()"
      ],
      "execution_count": null,
      "outputs": [
        {
          "output_type": "execute_result",
          "data": {
            "text/html": [
              "<div>\n",
              "<style scoped>\n",
              "    .dataframe tbody tr th:only-of-type {\n",
              "        vertical-align: middle;\n",
              "    }\n",
              "\n",
              "    .dataframe tbody tr th {\n",
              "        vertical-align: top;\n",
              "    }\n",
              "\n",
              "    .dataframe thead th {\n",
              "        text-align: right;\n",
              "    }\n",
              "</style>\n",
              "<table border=\"1\" class=\"dataframe\">\n",
              "  <thead>\n",
              "    <tr style=\"text-align: right;\">\n",
              "      <th></th>\n",
              "      <th>Loan ID</th>\n",
              "      <th>Customer ID</th>\n",
              "      <th>Loan Status</th>\n",
              "      <th>Current Loan Amount</th>\n",
              "      <th>Term</th>\n",
              "      <th>Credit Score</th>\n",
              "      <th>Annual Income</th>\n",
              "      <th>Years in current job</th>\n",
              "      <th>Home Ownership</th>\n",
              "      <th>Purpose</th>\n",
              "      <th>Monthly Debt</th>\n",
              "      <th>Years of Credit History</th>\n",
              "      <th>Months since last delinquent</th>\n",
              "      <th>Number of Open Accounts</th>\n",
              "      <th>Number of Credit Problems</th>\n",
              "      <th>Current Credit Balance</th>\n",
              "      <th>Maximum Open Credit</th>\n",
              "      <th>Bankruptcies</th>\n",
              "      <th>Tax Liens</th>\n",
              "    </tr>\n",
              "  </thead>\n",
              "  <tbody>\n",
              "    <tr>\n",
              "      <th>0</th>\n",
              "      <td>14dd8831-6af5-400b-83ec-68e61888a048</td>\n",
              "      <td>981165ec-3274-42f5-a3b4-d104041a9ca9</td>\n",
              "      <td>Fully Paid</td>\n",
              "      <td>445412</td>\n",
              "      <td>Short Term</td>\n",
              "      <td>709.0</td>\n",
              "      <td>1167493.0</td>\n",
              "      <td>8 years</td>\n",
              "      <td>Home Mortgage</td>\n",
              "      <td>Home Improvements</td>\n",
              "      <td>5214.74</td>\n",
              "      <td>17.2</td>\n",
              "      <td>NaN</td>\n",
              "      <td>6</td>\n",
              "      <td>1</td>\n",
              "      <td>228190</td>\n",
              "      <td>416746.0</td>\n",
              "      <td>1.0</td>\n",
              "      <td>0.0</td>\n",
              "    </tr>\n",
              "    <tr>\n",
              "      <th>1</th>\n",
              "      <td>4771cc26-131a-45db-b5aa-537ea4ba5342</td>\n",
              "      <td>2de017a3-2e01-49cb-a581-08169e83be29</td>\n",
              "      <td>Fully Paid</td>\n",
              "      <td>262328</td>\n",
              "      <td>Short Term</td>\n",
              "      <td>NaN</td>\n",
              "      <td>NaN</td>\n",
              "      <td>10+ years</td>\n",
              "      <td>Home Mortgage</td>\n",
              "      <td>Debt Consolidation</td>\n",
              "      <td>33295.98</td>\n",
              "      <td>21.1</td>\n",
              "      <td>8.0</td>\n",
              "      <td>35</td>\n",
              "      <td>0</td>\n",
              "      <td>229976</td>\n",
              "      <td>850784.0</td>\n",
              "      <td>0.0</td>\n",
              "      <td>0.0</td>\n",
              "    </tr>\n",
              "    <tr>\n",
              "      <th>2</th>\n",
              "      <td>77598f7b-32e7-4e3b-a6e5-06ba0d98fe8a</td>\n",
              "      <td>e777faab-98ae-45af-9a86-7ce5b33b1011</td>\n",
              "      <td>Fully Paid</td>\n",
              "      <td>347666</td>\n",
              "      <td>Long Term</td>\n",
              "      <td>721.0</td>\n",
              "      <td>806949.0</td>\n",
              "      <td>3 years</td>\n",
              "      <td>Own Home</td>\n",
              "      <td>Debt Consolidation</td>\n",
              "      <td>8741.90</td>\n",
              "      <td>12.0</td>\n",
              "      <td>NaN</td>\n",
              "      <td>9</td>\n",
              "      <td>0</td>\n",
              "      <td>256329</td>\n",
              "      <td>386958.0</td>\n",
              "      <td>0.0</td>\n",
              "      <td>0.0</td>\n",
              "    </tr>\n",
              "    <tr>\n",
              "      <th>3</th>\n",
              "      <td>89d8cb0c-e5c2-4f54-b056-48a645c543dd</td>\n",
              "      <td>4ffe99d3-7f2a-44db-afc1-40943f1f9750</td>\n",
              "      <td>Charged Off</td>\n",
              "      <td>206602</td>\n",
              "      <td>Short Term</td>\n",
              "      <td>7290.0</td>\n",
              "      <td>896857.0</td>\n",
              "      <td>10+ years</td>\n",
              "      <td>Home Mortgage</td>\n",
              "      <td>Debt Consolidation</td>\n",
              "      <td>16367.74</td>\n",
              "      <td>17.3</td>\n",
              "      <td>NaN</td>\n",
              "      <td>6</td>\n",
              "      <td>0</td>\n",
              "      <td>215308</td>\n",
              "      <td>272448.0</td>\n",
              "      <td>0.0</td>\n",
              "      <td>0.0</td>\n",
              "    </tr>\n",
              "    <tr>\n",
              "      <th>4</th>\n",
              "      <td>273581de-85d8-4332-81a5-19b04ce68666</td>\n",
              "      <td>90a75dde-34d5-419c-90dc-1e58b04b3e35</td>\n",
              "      <td>Fully Paid</td>\n",
              "      <td>217646</td>\n",
              "      <td>Short Term</td>\n",
              "      <td>730.0</td>\n",
              "      <td>1184194.0</td>\n",
              "      <td>&lt; 1 year</td>\n",
              "      <td>Home Mortgage</td>\n",
              "      <td>Debt Consolidation</td>\n",
              "      <td>10855.08</td>\n",
              "      <td>19.6</td>\n",
              "      <td>10.0</td>\n",
              "      <td>13</td>\n",
              "      <td>1</td>\n",
              "      <td>122170</td>\n",
              "      <td>272052.0</td>\n",
              "      <td>1.0</td>\n",
              "      <td>0.0</td>\n",
              "    </tr>\n",
              "  </tbody>\n",
              "</table>\n",
              "</div>"
            ],
            "text/plain": [
              "                                Loan ID  ... Tax Liens\n",
              "0  14dd8831-6af5-400b-83ec-68e61888a048  ...       0.0\n",
              "1  4771cc26-131a-45db-b5aa-537ea4ba5342  ...       0.0\n",
              "2  77598f7b-32e7-4e3b-a6e5-06ba0d98fe8a  ...       0.0\n",
              "3  89d8cb0c-e5c2-4f54-b056-48a645c543dd  ...       0.0\n",
              "4  273581de-85d8-4332-81a5-19b04ce68666  ...       0.0\n",
              "\n",
              "[5 rows x 19 columns]"
            ]
          },
          "metadata": {
            "tags": []
          },
          "execution_count": 4
        }
      ]
    },
    {
      "cell_type": "code",
      "metadata": {
        "colab": {
          "base_uri": "https://localhost:8080/"
        },
        "id": "hOgGa2kFn14P",
        "outputId": "7b9d9619-a487-434c-cc01-470cb034e78a"
      },
      "source": [
        "df.shape"
      ],
      "execution_count": null,
      "outputs": [
        {
          "output_type": "execute_result",
          "data": {
            "text/plain": [
              "(48552, 19)"
            ]
          },
          "metadata": {
            "tags": []
          },
          "execution_count": 5
        }
      ]
    },
    {
      "cell_type": "code",
      "metadata": {
        "colab": {
          "base_uri": "https://localhost:8080/"
        },
        "id": "JvWQSH80oA4F",
        "outputId": "e7ee638b-fcd8-4269-e447-dbaa094dce78"
      },
      "source": [
        "# To see the column data types and non-missing values\r\n",
        "df.info()"
      ],
      "execution_count": null,
      "outputs": [
        {
          "output_type": "stream",
          "text": [
            "<class 'pandas.core.frame.DataFrame'>\n",
            "RangeIndex: 48552 entries, 0 to 48551\n",
            "Data columns (total 19 columns):\n",
            " #   Column                        Non-Null Count  Dtype  \n",
            "---  ------                        --------------  -----  \n",
            " 0   Loan ID                       48552 non-null  object \n",
            " 1   Customer ID                   48552 non-null  object \n",
            " 2   Loan Status                   48552 non-null  object \n",
            " 3   Current Loan Amount           48552 non-null  int64  \n",
            " 4   Term                          48552 non-null  object \n",
            " 5   Credit Score                  38615 non-null  float64\n",
            " 6   Annual Income                 38615 non-null  float64\n",
            " 7   Years in current job          46294 non-null  object \n",
            " 8   Home Ownership                48552 non-null  object \n",
            " 9   Purpose                       48552 non-null  object \n",
            " 10  Monthly Debt                  48552 non-null  float64\n",
            " 11  Years of Credit History       48552 non-null  float64\n",
            " 12  Months since last delinquent  22652 non-null  float64\n",
            " 13  Number of Open Accounts       48552 non-null  int64  \n",
            " 14  Number of Credit Problems     48552 non-null  int64  \n",
            " 15  Current Credit Balance        48552 non-null  int64  \n",
            " 16  Maximum Open Credit           48550 non-null  float64\n",
            " 17  Bankruptcies                  48452 non-null  float64\n",
            " 18  Tax Liens                     48549 non-null  float64\n",
            "dtypes: float64(8), int64(4), object(7)\n",
            "memory usage: 7.0+ MB\n"
          ],
          "name": "stdout"
        }
      ]
    },
    {
      "cell_type": "code",
      "metadata": {
        "colab": {
          "base_uri": "https://localhost:8080/",
          "height": 304
        },
        "id": "iIWWlyF-oNwu",
        "outputId": "d7d84020-5964-4507-beed-40271d63b8d2"
      },
      "source": [
        "df.describe()\r\n",
        "# Statistics for each column"
      ],
      "execution_count": null,
      "outputs": [
        {
          "output_type": "execute_result",
          "data": {
            "text/html": [
              "<div>\n",
              "<style scoped>\n",
              "    .dataframe tbody tr th:only-of-type {\n",
              "        vertical-align: middle;\n",
              "    }\n",
              "\n",
              "    .dataframe tbody tr th {\n",
              "        vertical-align: top;\n",
              "    }\n",
              "\n",
              "    .dataframe thead th {\n",
              "        text-align: right;\n",
              "    }\n",
              "</style>\n",
              "<table border=\"1\" class=\"dataframe\">\n",
              "  <thead>\n",
              "    <tr style=\"text-align: right;\">\n",
              "      <th></th>\n",
              "      <th>Current Loan Amount</th>\n",
              "      <th>Credit Score</th>\n",
              "      <th>Annual Income</th>\n",
              "      <th>Monthly Debt</th>\n",
              "      <th>Years of Credit History</th>\n",
              "      <th>Months since last delinquent</th>\n",
              "      <th>Number of Open Accounts</th>\n",
              "      <th>Number of Credit Problems</th>\n",
              "      <th>Current Credit Balance</th>\n",
              "      <th>Maximum Open Credit</th>\n",
              "      <th>Bankruptcies</th>\n",
              "      <th>Tax Liens</th>\n",
              "    </tr>\n",
              "  </thead>\n",
              "  <tbody>\n",
              "    <tr>\n",
              "      <th>count</th>\n",
              "      <td>4.855200e+04</td>\n",
              "      <td>38615.000000</td>\n",
              "      <td>3.861500e+04</td>\n",
              "      <td>48552.000000</td>\n",
              "      <td>48552.000000</td>\n",
              "      <td>22652.000000</td>\n",
              "      <td>48552.000000</td>\n",
              "      <td>48552.000000</td>\n",
              "      <td>4.855200e+04</td>\n",
              "      <td>4.855000e+04</td>\n",
              "      <td>48452.000000</td>\n",
              "      <td>48549.000000</td>\n",
              "    </tr>\n",
              "    <tr>\n",
              "      <th>mean</th>\n",
              "      <td>8.221053e+06</td>\n",
              "      <td>1468.589952</td>\n",
              "      <td>1.344077e+06</td>\n",
              "      <td>18533.954184</td>\n",
              "      <td>18.077886</td>\n",
              "      <td>34.660913</td>\n",
              "      <td>11.166625</td>\n",
              "      <td>0.169859</td>\n",
              "      <td>2.919254e+05</td>\n",
              "      <td>7.327262e+05</td>\n",
              "      <td>0.117704</td>\n",
              "      <td>0.030382</td>\n",
              "    </tr>\n",
              "    <tr>\n",
              "      <th>std</th>\n",
              "      <td>2.693544e+07</td>\n",
              "      <td>2064.545749</td>\n",
              "      <td>1.222846e+06</td>\n",
              "      <td>12205.326281</td>\n",
              "      <td>7.037875</td>\n",
              "      <td>22.098585</td>\n",
              "      <td>5.025555</td>\n",
              "      <td>0.483336</td>\n",
              "      <td>3.722025e+05</td>\n",
              "      <td>7.700471e+06</td>\n",
              "      <td>0.351603</td>\n",
              "      <td>0.262615</td>\n",
              "    </tr>\n",
              "    <tr>\n",
              "      <th>min</th>\n",
              "      <td>1.080200e+04</td>\n",
              "      <td>585.000000</td>\n",
              "      <td>7.662700e+04</td>\n",
              "      <td>0.000000</td>\n",
              "      <td>3.600000</td>\n",
              "      <td>0.000000</td>\n",
              "      <td>0.000000</td>\n",
              "      <td>0.000000</td>\n",
              "      <td>0.000000e+00</td>\n",
              "      <td>0.000000e+00</td>\n",
              "      <td>0.000000</td>\n",
              "      <td>0.000000</td>\n",
              "    </tr>\n",
              "    <tr>\n",
              "      <th>25%</th>\n",
              "      <td>1.793825e+05</td>\n",
              "      <td>705.000000</td>\n",
              "      <td>8.301860e+05</td>\n",
              "      <td>10306.645000</td>\n",
              "      <td>13.300000</td>\n",
              "      <td>16.000000</td>\n",
              "      <td>8.000000</td>\n",
              "      <td>0.000000</td>\n",
              "      <td>1.146032e+05</td>\n",
              "      <td>2.704680e+05</td>\n",
              "      <td>0.000000</td>\n",
              "      <td>0.000000</td>\n",
              "    </tr>\n",
              "    <tr>\n",
              "      <th>50%</th>\n",
              "      <td>3.037430e+05</td>\n",
              "      <td>725.000000</td>\n",
              "      <td>1.150146e+06</td>\n",
              "      <td>16305.230000</td>\n",
              "      <td>16.800000</td>\n",
              "      <td>31.000000</td>\n",
              "      <td>10.000000</td>\n",
              "      <td>0.000000</td>\n",
              "      <td>2.116505e+05</td>\n",
              "      <td>4.598110e+05</td>\n",
              "      <td>0.000000</td>\n",
              "      <td>0.000000</td>\n",
              "    </tr>\n",
              "    <tr>\n",
              "      <th>75%</th>\n",
              "      <td>4.813600e+05</td>\n",
              "      <td>742.000000</td>\n",
              "      <td>1.611067e+06</td>\n",
              "      <td>24040.367500</td>\n",
              "      <td>21.500000</td>\n",
              "      <td>51.000000</td>\n",
              "      <td>14.000000</td>\n",
              "      <td>0.000000</td>\n",
              "      <td>3.672130e+05</td>\n",
              "      <td>7.609360e+05</td>\n",
              "      <td>0.000000</td>\n",
              "      <td>0.000000</td>\n",
              "    </tr>\n",
              "    <tr>\n",
              "      <th>max</th>\n",
              "      <td>1.000000e+08</td>\n",
              "      <td>7510.000000</td>\n",
              "      <td>1.655574e+08</td>\n",
              "      <td>435843.280000</td>\n",
              "      <td>65.000000</td>\n",
              "      <td>176.000000</td>\n",
              "      <td>76.000000</td>\n",
              "      <td>15.000000</td>\n",
              "      <td>3.287897e+07</td>\n",
              "      <td>1.304726e+09</td>\n",
              "      <td>7.000000</td>\n",
              "      <td>15.000000</td>\n",
              "    </tr>\n",
              "  </tbody>\n",
              "</table>\n",
              "</div>"
            ],
            "text/plain": [
              "       Current Loan Amount  Credit Score  ...  Bankruptcies     Tax Liens\n",
              "count         4.855200e+04  38615.000000  ...  48452.000000  48549.000000\n",
              "mean          8.221053e+06   1468.589952  ...      0.117704      0.030382\n",
              "std           2.693544e+07   2064.545749  ...      0.351603      0.262615\n",
              "min           1.080200e+04    585.000000  ...      0.000000      0.000000\n",
              "25%           1.793825e+05    705.000000  ...      0.000000      0.000000\n",
              "50%           3.037430e+05    725.000000  ...      0.000000      0.000000\n",
              "75%           4.813600e+05    742.000000  ...      0.000000      0.000000\n",
              "max           1.000000e+08   7510.000000  ...      7.000000     15.000000\n",
              "\n",
              "[8 rows x 12 columns]"
            ]
          },
          "metadata": {
            "tags": []
          },
          "execution_count": 7
        }
      ]
    },
    {
      "cell_type": "code",
      "metadata": {
        "id": "EUruAr4ooUUZ"
      },
      "source": [
        "#dropping unwanted columns\r\n",
        "df.drop(labels=['Loan ID', 'Customer ID'], axis=1, inplace=True)"
      ],
      "execution_count": 4,
      "outputs": []
    },
    {
      "cell_type": "code",
      "metadata": {
        "id": "AoKwzT7TVAun",
        "colab": {
          "base_uri": "https://localhost:8080/",
          "height": 432
        },
        "outputId": "bf010f61-0933-46a6-970e-9af1f5dd40d5"
      },
      "source": [
        "df['Loan Status'].value_counts().sort_values(ascending = True).plot(kind='bar', title ='Categories of Loans Status')"
      ],
      "execution_count": 5,
      "outputs": [
        {
          "output_type": "execute_result",
          "data": {
            "text/plain": [
              "<matplotlib.axes._subplots.AxesSubplot at 0x7f43dde304a8>"
            ]
          },
          "metadata": {
            "tags": []
          },
          "execution_count": 5
        },
        {
          "output_type": "display_data",
          "data": {
            "image/png": "[encoded data removed]",
            "text/plain": [
              "<Figure size 432x288 with 1 Axes>"
            ]
          },
          "metadata": {
            "tags": [],
            "needs_background": "light"
          }
        }
      ]
    },
    {
      "cell_type": "code",
      "metadata": {
        "colab": {
          "base_uri": "https://localhost:8080/"
        },
        "id": "4ZJszxwJA2xL",
        "outputId": "4131601a-47f5-45d9-d1be-272043a423d0"
      },
      "source": [
        "df['Loan Status'].value_counts()"
      ],
      "execution_count": null,
      "outputs": [
        {
          "output_type": "execute_result",
          "data": {
            "text/plain": [
              "Fully Paid     25913\n",
              "Charged Off    22639\n",
              "Name: Loan Status, dtype: int64"
            ]
          },
          "metadata": {
            "tags": []
          },
          "execution_count": 10
        }
      ]
    },
    {
      "cell_type": "code",
      "metadata": {
        "id": "K1Wb1H2oojmz"
      },
      "source": [
        "# Function to calculate missing values by column\r\n",
        "def missing_values_table(df_1):\r\n",
        "        # Total missing values\r\n",
        "        mis_val = df_1.isnull().sum()\r\n",
        "        \r\n",
        "        # Percentage of missing values\r\n",
        "        mis_val_percent = 100 * df_1.isnull().sum() / len(df)\r\n",
        "        \r\n",
        "        # Make a table with the results\r\n",
        "        mis_val_table = pd.concat([mis_val, mis_val_percent], axis=1)\r\n",
        "        \r\n",
        "        # Rename the columns\r\n",
        "        mis_val_table_ren_columns = mis_val_table.rename(\r\n",
        "        columns = {0 : 'Missing Values', 1 : '% of Total Values'})\r\n",
        "        \r\n",
        "        # Sort the table by percentage of missing descending\r\n",
        "        mis_val_table_ren_columns = mis_val_table_ren_columns[\r\n",
        "            mis_val_table_ren_columns.iloc[:,1] != 0].sort_values(\r\n",
        "        '% of Total Values', ascending=False).round(1)\r\n",
        "        \r\n",
        "        # Print some summary information\r\n",
        "        print (\"Your selected dataframe has \" + str(df.shape[1]) + \" columns.\\n\"      \r\n",
        "            \"There are \" + str(mis_val_table_ren_columns.shape[0]) +\r\n",
        "              \" columns that have missing values.\")\r\n",
        "        \r\n",
        "        # Return the dataframe with missing information\r\n",
        "        return mis_val_table_ren_columns"
      ],
      "execution_count": 6,
      "outputs": []
    },
    {
      "cell_type": "code",
      "metadata": {
        "colab": {
          "base_uri": "https://localhost:8080/",
          "height": 291
        },
        "id": "sCZ0qfQfowky",
        "outputId": "8f89fed8-a2c8-4fb1-e00a-5bb95f19033b"
      },
      "source": [
        "missing_values_table(df)"
      ],
      "execution_count": 7,
      "outputs": [
        {
          "output_type": "stream",
          "text": [
            "Your selected dataframe has 17 columns.\n",
            "There are 7 columns that have missing values.\n"
          ],
          "name": "stdout"
        },
        {
          "output_type": "execute_result",
          "data": {
            "text/html": [
              "<div>\n",
              "<style scoped>\n",
              "    .dataframe tbody tr th:only-of-type {\n",
              "        vertical-align: middle;\n",
              "    }\n",
              "\n",
              "    .dataframe tbody tr th {\n",
              "        vertical-align: top;\n",
              "    }\n",
              "\n",
              "    .dataframe thead th {\n",
              "        text-align: right;\n",
              "    }\n",
              "</style>\n",
              "<table border=\"1\" class=\"dataframe\">\n",
              "  <thead>\n",
              "    <tr style=\"text-align: right;\">\n",
              "      <th></th>\n",
              "      <th>Missing Values</th>\n",
              "      <th>% of Total Values</th>\n",
              "    </tr>\n",
              "  </thead>\n",
              "  <tbody>\n",
              "    <tr>\n",
              "      <th>Months since last delinquent</th>\n",
              "      <td>25900</td>\n",
              "      <td>53.3</td>\n",
              "    </tr>\n",
              "    <tr>\n",
              "      <th>Credit Score</th>\n",
              "      <td>9937</td>\n",
              "      <td>20.5</td>\n",
              "    </tr>\n",
              "    <tr>\n",
              "      <th>Annual Income</th>\n",
              "      <td>9937</td>\n",
              "      <td>20.5</td>\n",
              "    </tr>\n",
              "    <tr>\n",
              "      <th>Years in current job</th>\n",
              "      <td>2258</td>\n",
              "      <td>4.7</td>\n",
              "    </tr>\n",
              "    <tr>\n",
              "      <th>Bankruptcies</th>\n",
              "      <td>100</td>\n",
              "      <td>0.2</td>\n",
              "    </tr>\n",
              "    <tr>\n",
              "      <th>Tax Liens</th>\n",
              "      <td>3</td>\n",
              "      <td>0.0</td>\n",
              "    </tr>\n",
              "    <tr>\n",
              "      <th>Maximum Open Credit</th>\n",
              "      <td>2</td>\n",
              "      <td>0.0</td>\n",
              "    </tr>\n",
              "  </tbody>\n",
              "</table>\n",
              "</div>"
            ],
            "text/plain": [
              "                              Missing Values  % of Total Values\n",
              "Months since last delinquent           25900               53.3\n",
              "Credit Score                            9937               20.5\n",
              "Annual Income                           9937               20.5\n",
              "Years in current job                    2258                4.7\n",
              "Bankruptcies                             100                0.2\n",
              "Tax Liens                                  3                0.0\n",
              "Maximum Open Credit                        2                0.0"
            ]
          },
          "metadata": {
            "tags": []
          },
          "execution_count": 7
        }
      ]
    },
    {
      "cell_type": "code",
      "metadata": {
        "id": "A4MtwUIxo4Qk"
      },
      "source": [
        "# Drop the columns with > 50% missing\r\n",
        "df.drop(columns = 'Months since last delinquent', axis=1, inplace=True)"
      ],
      "execution_count": 8,
      "outputs": []
    },
    {
      "cell_type": "code",
      "metadata": {
        "colab": {
          "base_uri": "https://localhost:8080/",
          "height": 111
        },
        "id": "vojBXJaMpRNq",
        "outputId": "d56f8204-8ebc-47f3-db9e-c0a8896407e1"
      },
      "source": [
        "# As the number of missing values is so low in the 'Maximum Open Credit' I will drop them.\r\n",
        "\r\n",
        "for i in df['Maximum Open Credit'][df['Maximum Open Credit'].isnull() == True].index:\r\n",
        "    df.drop(labels=i, inplace=True)\r\n",
        "missing_values_table(df)"
      ],
      "execution_count": 13,
      "outputs": [
        {
          "output_type": "stream",
          "text": [
            "Your selected dataframe has 16 columns.\n",
            "There are 1 columns that have missing values.\n"
          ],
          "name": "stdout"
        },
        {
          "output_type": "execute_result",
          "data": {
            "text/html": [
              "<div>\n",
              "<style scoped>\n",
              "    .dataframe tbody tr th:only-of-type {\n",
              "        vertical-align: middle;\n",
              "    }\n",
              "\n",
              "    .dataframe tbody tr th {\n",
              "        vertical-align: top;\n",
              "    }\n",
              "\n",
              "    .dataframe thead th {\n",
              "        text-align: right;\n",
              "    }\n",
              "</style>\n",
              "<table border=\"1\" class=\"dataframe\">\n",
              "  <thead>\n",
              "    <tr style=\"text-align: right;\">\n",
              "      <th></th>\n",
              "      <th>Missing Values</th>\n",
              "      <th>% of Total Values</th>\n",
              "    </tr>\n",
              "  </thead>\n",
              "  <tbody>\n",
              "    <tr>\n",
              "      <th>Years in current job</th>\n",
              "      <td>2258</td>\n",
              "      <td>4.7</td>\n",
              "    </tr>\n",
              "  </tbody>\n",
              "</table>\n",
              "</div>"
            ],
            "text/plain": [
              "                      Missing Values  % of Total Values\n",
              "Years in current job            2258                4.7"
            ]
          },
          "metadata": {
            "tags": []
          },
          "execution_count": 13
        }
      ]
    },
    {
      "cell_type": "code",
      "metadata": {
        "colab": {
          "base_uri": "https://localhost:8080/",
          "height": 111
        },
        "id": "A6xz9jgspjaq",
        "outputId": "f05402e0-169a-4003-c536-099d2cfcd26e"
      },
      "source": [
        "# As the number of missing values is so low in the 'Tax Liens' I will drop them.\r\n",
        "\r\n",
        "for i in df['Tax Liens'][df['Tax Liens'].isnull() == True].index:\r\n",
        "    df.drop(labels=i, inplace=True)\r\n",
        "missing_values_table(df)"
      ],
      "execution_count": 14,
      "outputs": [
        {
          "output_type": "stream",
          "text": [
            "Your selected dataframe has 16 columns.\n",
            "There are 1 columns that have missing values.\n"
          ],
          "name": "stdout"
        },
        {
          "output_type": "execute_result",
          "data": {
            "text/html": [
              "<div>\n",
              "<style scoped>\n",
              "    .dataframe tbody tr th:only-of-type {\n",
              "        vertical-align: middle;\n",
              "    }\n",
              "\n",
              "    .dataframe tbody tr th {\n",
              "        vertical-align: top;\n",
              "    }\n",
              "\n",
              "    .dataframe thead th {\n",
              "        text-align: right;\n",
              "    }\n",
              "</style>\n",
              "<table border=\"1\" class=\"dataframe\">\n",
              "  <thead>\n",
              "    <tr style=\"text-align: right;\">\n",
              "      <th></th>\n",
              "      <th>Missing Values</th>\n",
              "      <th>% of Total Values</th>\n",
              "    </tr>\n",
              "  </thead>\n",
              "  <tbody>\n",
              "    <tr>\n",
              "      <th>Years in current job</th>\n",
              "      <td>2258</td>\n",
              "      <td>4.7</td>\n",
              "    </tr>\n",
              "  </tbody>\n",
              "</table>\n",
              "</div>"
            ],
            "text/plain": [
              "                      Missing Values  % of Total Values\n",
              "Years in current job            2258                4.7"
            ]
          },
          "metadata": {
            "tags": []
          },
          "execution_count": 14
        }
      ]
    },
    {
      "cell_type": "code",
      "metadata": {
        "colab": {
          "base_uri": "https://localhost:8080/",
          "height": 111
        },
        "id": "UvAGBb7ypvYf",
        "outputId": "71b3b1bc-da19-4c63-a2da-558726f435aa"
      },
      "source": [
        "# As the number of missing values is so low in the 'Bankruptcies' I will drop them.\r\n",
        "\r\n",
        "for i in df['Bankruptcies'][df['Bankruptcies'].isnull() == True].index:\r\n",
        "    df.drop(labels=i, inplace=True)\r\n",
        "missing_values_table(df)"
      ],
      "execution_count": 15,
      "outputs": [
        {
          "output_type": "stream",
          "text": [
            "Your selected dataframe has 16 columns.\n",
            "There are 1 columns that have missing values.\n"
          ],
          "name": "stdout"
        },
        {
          "output_type": "execute_result",
          "data": {
            "text/html": [
              "<div>\n",
              "<style scoped>\n",
              "    .dataframe tbody tr th:only-of-type {\n",
              "        vertical-align: middle;\n",
              "    }\n",
              "\n",
              "    .dataframe tbody tr th {\n",
              "        vertical-align: top;\n",
              "    }\n",
              "\n",
              "    .dataframe thead th {\n",
              "        text-align: right;\n",
              "    }\n",
              "</style>\n",
              "<table border=\"1\" class=\"dataframe\">\n",
              "  <thead>\n",
              "    <tr style=\"text-align: right;\">\n",
              "      <th></th>\n",
              "      <th>Missing Values</th>\n",
              "      <th>% of Total Values</th>\n",
              "    </tr>\n",
              "  </thead>\n",
              "  <tbody>\n",
              "    <tr>\n",
              "      <th>Years in current job</th>\n",
              "      <td>2258</td>\n",
              "      <td>4.7</td>\n",
              "    </tr>\n",
              "  </tbody>\n",
              "</table>\n",
              "</div>"
            ],
            "text/plain": [
              "                      Missing Values  % of Total Values\n",
              "Years in current job            2258                4.7"
            ]
          },
          "metadata": {
            "tags": []
          },
          "execution_count": 15
        }
      ]
    },
    {
      "cell_type": "code",
      "metadata": {
        "colab": {
          "base_uri": "https://localhost:8080/",
          "height": 111
        },
        "id": "4Nvmm1DKp3Rc",
        "outputId": "f2f35a95-83e7-438f-8a3b-19849212f2f9"
      },
      "source": [
        "# Now I will use the 'mean' technique to fill the NaN values.\r\n",
        "\r\n",
        "df.fillna(df.mean(), inplace=True)\r\n",
        "missing_values_table(df)\r\n",
        "\r\n",
        "# The feature 'Years in current job' didn't fill because has categorical values."
      ],
      "execution_count": 16,
      "outputs": [
        {
          "output_type": "stream",
          "text": [
            "Your selected dataframe has 16 columns.\n",
            "There are 1 columns that have missing values.\n"
          ],
          "name": "stdout"
        },
        {
          "output_type": "execute_result",
          "data": {
            "text/html": [
              "<div>\n",
              "<style scoped>\n",
              "    .dataframe tbody tr th:only-of-type {\n",
              "        vertical-align: middle;\n",
              "    }\n",
              "\n",
              "    .dataframe tbody tr th {\n",
              "        vertical-align: top;\n",
              "    }\n",
              "\n",
              "    .dataframe thead th {\n",
              "        text-align: right;\n",
              "    }\n",
              "</style>\n",
              "<table border=\"1\" class=\"dataframe\">\n",
              "  <thead>\n",
              "    <tr style=\"text-align: right;\">\n",
              "      <th></th>\n",
              "      <th>Missing Values</th>\n",
              "      <th>% of Total Values</th>\n",
              "    </tr>\n",
              "  </thead>\n",
              "  <tbody>\n",
              "    <tr>\n",
              "      <th>Years in current job</th>\n",
              "      <td>2258</td>\n",
              "      <td>4.7</td>\n",
              "    </tr>\n",
              "  </tbody>\n",
              "</table>\n",
              "</div>"
            ],
            "text/plain": [
              "                      Missing Values  % of Total Values\n",
              "Years in current job            2258                4.7"
            ]
          },
          "metadata": {
            "tags": []
          },
          "execution_count": 16
        }
      ]
    },
    {
      "cell_type": "code",
      "metadata": {
        "colab": {
          "base_uri": "https://localhost:8080/",
          "height": 81
        },
        "id": "DwvzPir-qIHR",
        "outputId": "59e1190a-3474-4e6a-8884-306f4ca73f0b"
      },
      "source": [
        "df.fillna('10+ years', inplace=True) # fill with '10+ years'.\r\n",
        "missing_values_table(df)"
      ],
      "execution_count": 17,
      "outputs": [
        {
          "output_type": "stream",
          "text": [
            "Your selected dataframe has 16 columns.\n",
            "There are 0 columns that have missing values.\n"
          ],
          "name": "stdout"
        },
        {
          "output_type": "execute_result",
          "data": {
            "text/html": [
              "<div>\n",
              "<style scoped>\n",
              "    .dataframe tbody tr th:only-of-type {\n",
              "        vertical-align: middle;\n",
              "    }\n",
              "\n",
              "    .dataframe tbody tr th {\n",
              "        vertical-align: top;\n",
              "    }\n",
              "\n",
              "    .dataframe thead th {\n",
              "        text-align: right;\n",
              "    }\n",
              "</style>\n",
              "<table border=\"1\" class=\"dataframe\">\n",
              "  <thead>\n",
              "    <tr style=\"text-align: right;\">\n",
              "      <th></th>\n",
              "      <th>Missing Values</th>\n",
              "      <th>% of Total Values</th>\n",
              "    </tr>\n",
              "  </thead>\n",
              "  <tbody>\n",
              "  </tbody>\n",
              "</table>\n",
              "</div>"
            ],
            "text/plain": [
              "Empty DataFrame\n",
              "Columns: [Missing Values, % of Total Values]\n",
              "Index: []"
            ]
          },
          "metadata": {
            "tags": []
          },
          "execution_count": 17
        }
      ]
    },
    {
      "cell_type": "code",
      "metadata": {
        "id": "YcdSm9vPVXNE",
        "colab": {
          "base_uri": "https://localhost:8080/",
          "height": 1000
        },
        "outputId": "d697ca56-fe4b-47de-da2c-f4d882389d6f"
      },
      "source": [
        "df['Years in current job'].hist(figsize=(20,20))"
      ],
      "execution_count": null,
      "outputs": [
        {
          "output_type": "execute_result",
          "data": {
            "text/plain": [
              "<matplotlib.axes._subplots.AxesSubplot at 0x7fdde0bf9860>"
            ]
          },
          "metadata": {
            "tags": []
          },
          "execution_count": 15
        },
        {
          "output_type": "display_data",
          "data": {
            "image/png": "[encoded data removed]",
            "text/plain": [
              "<Figure size 1440x1440 with 1 Axes>"
            ]
          },
          "metadata": {
            "tags": [],
            "needs_background": "light"
          }
        }
      ]
    },
    {
      "cell_type": "code",
      "metadata": {
        "colab": {
          "base_uri": "https://localhost:8080/"
        },
        "id": "PUoVtORvqRWb",
        "outputId": "1eae1d62-94de-4eaf-c2dd-83fd33e36477"
      },
      "source": [
        "# # Correlations between Features and Target\r\n",
        "\r\n",
        "# Find all correlations and sort \r\n",
        "correlations_data = df.corr()['Credit Score'].sort_values(ascending=False)\r\n",
        "\r\n",
        "# Print the correlations\r\n",
        "print(correlations_data.tail)"
      ],
      "execution_count": 18,
      "outputs": [
        {
          "output_type": "stream",
          "text": [
            "<bound method NDFrame.tail of Credit Score                 1.000000\n",
            "Number of Open Accounts      0.006388\n",
            "Tax Liens                    0.005984\n",
            "Current Credit Balance       0.002465\n",
            "Monthly Debt                -0.002489\n",
            "Maximum Open Credit         -0.002640\n",
            "Number of Credit Problems   -0.003221\n",
            "Bankruptcies                -0.007320\n",
            "Years of Credit History     -0.008646\n",
            "Annual Income               -0.012419\n",
            "Current Loan Amount         -0.118223\n",
            "Name: Credit Score, dtype: float64>\n"
          ],
          "name": "stdout"
        }
      ]
    },
    {
      "cell_type": "code",
      "metadata": {
        "id": "kuz8PaGGqfj4"
      },
      "source": [
        "# # Encoding categorical data & Feature Scaling\r\n",
        "\r\n",
        "# Select the categorical columns\r\n",
        "categorical_subset = df[['Term', 'Years in current job', 'Home Ownership', 'Purpose']]\r\n",
        "\r\n",
        "# One hot encode\r\n",
        "categorical_subset = pd.get_dummies(categorical_subset)\r\n",
        "\r\n",
        "# Join the dataframe in credit_train\r\n",
        "# Make sure to use axis = 1 to perform a column bind\r\n",
        "# First I will drop the 'old' categorical datas and after I will join the 'new' one.\r\n",
        "\r\n",
        "df.drop(labels=['Term', 'Years in current job', 'Home Ownership', 'Purpose'], axis=1, inplace=True)\r\n",
        "df = pd.concat([df, categorical_subset], axis = 1)"
      ],
      "execution_count": 19,
      "outputs": []
    },
    {
      "cell_type": "code",
      "metadata": {
        "id": "nbtDVLz2qrz0"
      },
      "source": [
        "def remove_collinear_features(x, threshold):\r\n",
        "    '''\r\n",
        "    Objective:\r\n",
        "        Remove collinear features in a dataframe with a correlation coefficient\r\n",
        "        greater than the threshold. Removing collinear features can help a model\r\n",
        "        to generalize and improves the interpretability of the model.\r\n",
        "        \r\n",
        "    Inputs: \r\n",
        "        threshold: any features with correlations greater than this value are removed\r\n",
        "    \r\n",
        "    Output: \r\n",
        "        dataframe that contains only the non-highly-collinear features\r\n",
        "    '''\r\n",
        "    \r\n",
        "    # Dont want to remove correlations between Energy Star Score\r\n",
        "    y = x['Loan Status']\r\n",
        "    x = x.drop(columns = ['Loan Status'])\r\n",
        "    \r\n",
        "    # Calculate the correlation matrix\r\n",
        "    corr_matrix = x.corr()\r\n",
        "    iters = range(len(corr_matrix.columns) - 1)\r\n",
        "    drop_cols = []\r\n",
        "\r\n",
        "    # Iterate through the correlation matrix and compare correlations\r\n",
        "    for i in iters:\r\n",
        "        for j in range(i):\r\n",
        "            item = corr_matrix.iloc[j:(j+1), (i+1):(i+2)]\r\n",
        "            col = item.columns\r\n",
        "            row = item.index\r\n",
        "            val = abs(item.values)\r\n",
        "            \r\n",
        "            # If correlation exceeds the threshold\r\n",
        "            if val >= threshold:\r\n",
        "                # Print the correlated features and the correlation value\r\n",
        "                # print(col.values[0], \"|\", row.values[0], \"|\", round(val[0][0], 2))\r\n",
        "                drop_cols.append(col.values[0])\r\n",
        "\r\n",
        "    # Drop one of each pair of correlated columns\r\n",
        "    drops = set(drop_cols)\r\n",
        "    x = x.drop(columns = drops)\r\n",
        "    \r\n",
        "    # Add the score back in to the data\r\n",
        "    x['Loan Status'] = y\r\n",
        "               \r\n",
        "    return x"
      ],
      "execution_count": 20,
      "outputs": []
    },
    {
      "cell_type": "code",
      "metadata": {
        "id": "1T_Sq9RRq3Di"
      },
      "source": [
        "df = remove_collinear_features(df, 0.6);"
      ],
      "execution_count": 21,
      "outputs": []
    },
    {
      "cell_type": "code",
      "metadata": {
        "id": "IZU3AHjYmJSC"
      },
      "source": [
        "# Separate out the features and targets\r\n",
        "features = df.drop(columns='Loan Status')\r\n",
        "targets = pd.DataFrame(df['Loan Status'])"
      ],
      "execution_count": 22,
      "outputs": []
    },
    {
      "cell_type": "code",
      "metadata": {
        "colab": {
          "base_uri": "https://localhost:8080/"
        },
        "id": "tF45jcYgrF4v",
        "outputId": "efcf6564-d6c8-4d75-c43d-60b757046fd5"
      },
      "source": [
        "\r\n",
        "# Split into 80% training and 20% testing set\r\n",
        "X_train, X_test, y_train, y_test = train_test_split(features, targets, test_size = 0.2, random_state = 42)\r\n",
        "\r\n",
        "print(X_train.shape)\r\n",
        "print(X_test.shape)\r\n",
        "print(y_train.shape)\r\n",
        "print(y_test.shape)\r\n"
      ],
      "execution_count": 23,
      "outputs": [
        {
          "output_type": "stream",
          "text": [
            "(38760, 42)\n",
            "(9690, 42)\n",
            "(38760, 1)\n",
            "(9690, 1)\n"
          ],
          "name": "stdout"
        }
      ]
    },
    {
      "cell_type": "code",
      "metadata": {
        "id": "aNPASBk4rPs4",
        "colab": {
          "base_uri": "https://localhost:8080/"
        },
        "outputId": "5bf7de7e-27a4-4703-de77-fc1261f7d215"
      },
      "source": [
        "# # Feature Scaling\r\n",
        "from sklearn.preprocessing import StandardScaler\r\n",
        "sc = StandardScaler()\r\n",
        "X_train = sc.fit_transform(X_train)\r\n",
        "X_test = sc.transform(X_test)\r\n",
        "\r\n",
        "# Encoding the Dependent Variable\r\n",
        "from sklearn.preprocessing import LabelEncoder, OneHotEncoder\r\n",
        "labelencoder_y_train = LabelEncoder()\r\n",
        "y_train = labelencoder_y_train.fit_transform(y_train)\r\n",
        "labelencoder_y_test = LabelEncoder()\r\n",
        "y_test = labelencoder_y_test.fit_transform(y_test)"
      ],
      "execution_count": 24,
      "outputs": [
        {
          "output_type": "stream",
          "text": [
            "/usr/local/lib/python3.6/dist-packages/sklearn/preprocessing/_label.py:251: DataConversionWarning: A column-vector y was passed when a 1d array was expected. Please change the shape of y to (n_samples, ), for example using ravel().\n",
            "  y = column_or_1d(y, warn=True)\n"
          ],
          "name": "stderr"
        }
      ]
    },
    {
      "cell_type": "code",
      "metadata": {
        "id": "1TwW313SrU1R"
      },
      "source": [
        "from sklearn import metrics\r\n",
        "from sklearn.metrics import classification_report\r\n",
        "from sklearn.metrics import confusion_matrix"
      ],
      "execution_count": 25,
      "outputs": []
    },
    {
      "cell_type": "code",
      "metadata": {
        "id": "xNp0yDLarb-Z"
      },
      "source": [
        "\r\n",
        "# We will compare five different machine learning Classification models:\r\n",
        "\r\n",
        "# 1 - Logistic Regression\r\n",
        "# 2 - K-Nearest Neighbors Classification\r\n",
        "# 3 - Suport Vector Machine\r\n",
        "# 4 - Gradient Boosting\r\n",
        "# 5 - Random Forest Classification\r\n",
        "\r\n",
        "# Function to calculate mean absolute error\r\n",
        "def cross_val(X_train, y_train, model):\r\n",
        "    # Applying k-Fold Cross Validation\r\n",
        "    from sklearn.model_selection import cross_val_score\r\n",
        "    from sklearn.model_selection import KFold\r\n",
        "    from sklearn import metrics\r\n",
        "    accuracies = cross_val_score(estimator = model, X = X_train, y = y_train,scoring='accuracy', cv = 10)\r\n",
        "    return accuracies.mean()\r\n",
        "\r\n",
        "# Takes in a model, trains the model, and evaluates the model on the test set\r\n",
        "def fit_and_evaluate(model):\r\n",
        "    \r\n",
        "    # Train the model\r\n",
        "    model.fit(X_train, y_train)\r\n",
        "    \r\n",
        "    # Make predictions and evalute\r\n",
        "    model_pred = model.predict(X_test)\r\n",
        "    model_cross = cross_val(X_train, y_train, model)\r\n",
        "    print(metrics.confusion_matrix(y_test, model_pred))\r\n",
        "    \r\n",
        "    \r\n",
        "    # Return the performance metric\r\n",
        "    return model_cross"
      ],
      "execution_count": 26,
      "outputs": []
    },
    {
      "cell_type": "code",
      "metadata": {
        "colab": {
          "base_uri": "https://localhost:8080/"
        },
        "id": "7aSRiMACrioZ",
        "outputId": "86b73f04-158a-45d1-f75d-f01b2fcf3985"
      },
      "source": [
        "# # Logistic Regression\r\n",
        "from sklearn.linear_model import LogisticRegression\r\n",
        "logr = LogisticRegression()\r\n",
        "logr_cross = fit_and_evaluate(logr)\r\n",
        "\r\n",
        "print('Logistic Regression Performance on the test set: Cross Validation Score = %0.4f' % logr_cross)"
      ],
      "execution_count": 27,
      "outputs": [
        {
          "output_type": "stream",
          "text": [
            "[[2376 2080]\n",
            " [1118 4116]]\n",
            "Logistic Regression Performance on the test set: Cross Validation Score = 0.6614\n"
          ],
          "name": "stdout"
        }
      ]
    },
    {
      "cell_type": "code",
      "metadata": {
        "colab": {
          "base_uri": "https://localhost:8080/"
        },
        "id": "uz8tqNEhrrBp",
        "outputId": "b5482f46-287e-45e4-bd94-f30cfe845ac0"
      },
      "source": [
        "from sklearn.neighbors import KNeighborsClassifier\r\n",
        "knn = KNeighborsClassifier(n_neighbors = 5, metric = 'minkowski', p = 2)\r\n",
        "knn_cross = fit_and_evaluate(knn)\r\n",
        "\r\n",
        "print('KNN Performance on the test set: Cross Validation Score = %0.4f' % knn_cross)"
      ],
      "execution_count": 28,
      "outputs": [
        {
          "output_type": "stream",
          "text": [
            "[[2552 1904]\n",
            " [1653 3581]]\n",
            "KNN Performance on the test set: Cross Validation Score = 0.6209\n"
          ],
          "name": "stdout"
        }
      ]
    },
    {
      "cell_type": "code",
      "metadata": {
        "colab": {
          "base_uri": "https://localhost:8080/"
        },
        "id": "2lCkRXLlwQD8",
        "outputId": "f2f94c22-cfdb-4955-dd9e-2ccb8565e9b7"
      },
      "source": [
        "# # Random Forest Classification\r\n",
        "from sklearn.ensemble import RandomForestClassifier\r\n",
        "random = RandomForestClassifier(n_estimators = 10, criterion = 'entropy')\r\n",
        "random_cross = fit_and_evaluate(random)\r\n",
        "\r\n",
        "print('Random Forest Performance on the test set: Cross Validation Score = %0.4f' % random_cross)"
      ],
      "execution_count": 29,
      "outputs": [
        {
          "output_type": "stream",
          "text": [
            "[[2934 1522]\n",
            " [1832 3402]]\n",
            "Random Forest Performance on the test set: Cross Validation Score = 0.6535\n"
          ],
          "name": "stdout"
        }
      ]
    },
    {
      "cell_type": "code",
      "metadata": {
        "colab": {
          "base_uri": "https://localhost:8080/"
        },
        "id": "3Z0dk2QxwZWy",
        "outputId": "46ee488e-86f8-455f-bc07-8410ca686499"
      },
      "source": [
        "# # Gradiente Boosting Classification\r\n",
        "from xgboost import XGBClassifier\r\n",
        "gb = XGBClassifier()\r\n",
        "gb_cross = fit_and_evaluate(gb)\r\n",
        "\r\n",
        "print('Gradiente Boosting Classification Performance on the test set: Cross Validation Score = %0.4f' % gb_cross)"
      ],
      "execution_count": 30,
      "outputs": [
        {
          "output_type": "stream",
          "text": [
            "[[2419 2037]\n",
            " [1038 4196]]\n",
            "Gradiente Boosting Classification Performance on the test set: Cross Validation Score = 0.6763\n"
          ],
          "name": "stdout"
        }
      ]
    },
    {
      "cell_type": "code",
      "metadata": {
        "colab": {
          "base_uri": "https://localhost:8080/"
        },
        "id": "IQkM1Cspwi7F",
        "outputId": "54b4b3f0-9228-4d5f-abb7-9c86aefb9d35"
      },
      "source": [
        "from sklearn.svm import SVC\r\n",
        "SVM = SVC(gamma='scale', kernel ='rbf')\r\n",
        "SVM_Cross = fit_and_evaluate(SVM)\r\n",
        "print('SVM Classification Performance on the test set: Cross Validation Score = %0.4f' % SVM_Cross)"
      ],
      "execution_count": 31,
      "outputs": [
        {
          "output_type": "stream",
          "text": [
            "[[2093 2363]\n",
            " [ 871 4363]]\n",
            "SVM Classification Performance on the test set: Cross Validation Score = 0.6550\n"
          ],
          "name": "stdout"
        }
      ]
    },
    {
      "cell_type": "code",
      "metadata": {
        "colab": {
          "base_uri": "https://localhost:8080/",
          "height": 322
        },
        "id": "REda2L7ixfXu",
        "outputId": "21894008-7083-438c-b232-8ea75664c185"
      },
      "source": [
        "plt.style.use('fivethirtyeight')\r\n",
        "figsize=(10, 8)\r\n",
        "\r\n",
        "# Dataframe to hold the results\r\n",
        "model_comparison = pd.DataFrame({'model': ['Logistic Regression', 'K-NN',\r\n",
        "                                           'SVM', 'Random Forest',\r\n",
        "                                            'Gradient Boosting'],\r\n",
        "                                 'score': [logr_cross, knn_cross, SVM_Cross, \r\n",
        "                                         random_cross, gb_cross]})\r\n",
        "\r\n",
        "# Horizontal bar chart of test mae\r\n",
        "model_comparison.sort_values('score', ascending = True).plot(x = 'model', y = 'score', kind = 'barh',\r\n",
        "                                                             edgecolor = 'black')\r\n",
        "\r\n",
        "# Plot formatting\r\n",
        "plt.ylabel(''); plt.yticks(size = 14); plt.xlabel('K-Fold Cross Validation'); plt.xticks(size = 14)\r\n",
        "plt.title('Model Comparison on Score', size = 15);"
      ],
      "execution_count": 32,
      "outputs": [
        {
          "output_type": "display_data",
          "data": {
            "image/png": "[encoded data removed]",
            "text/plain": [
              "<Figure size 432x288 with 1 Axes>"
            ]
          },
          "metadata": {
            "tags": []
          }
        }
      ]
    }
  ]
}